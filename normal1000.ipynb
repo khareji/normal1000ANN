{
 "cells": [
  {
   "cell_type": "code",
   "execution_count": 1,
   "metadata": {},
   "outputs": [],
   "source": [
    "import pandas as pd\n",
    "import numpy as np\n",
    "import matplotlib.pyplot as plt"
   ]
  },
  {
   "cell_type": "code",
   "execution_count": 3,
   "metadata": {},
   "outputs": [
    {
     "data": {
      "text/html": [
       "<div>\n",
       "<style scoped>\n",
       "    .dataframe tbody tr th:only-of-type {\n",
       "        vertical-align: middle;\n",
       "    }\n",
       "\n",
       "    .dataframe tbody tr th {\n",
       "        vertical-align: top;\n",
       "    }\n",
       "\n",
       "    .dataframe thead th {\n",
       "        text-align: right;\n",
       "    }\n",
       "</style>\n",
       "<table border=\"1\" class=\"dataframe\">\n",
       "  <thead>\n",
       "    <tr style=\"text-align: right;\">\n",
       "      <th></th>\n",
       "      <th>RowNumber</th>\n",
       "      <th>CustomerId</th>\n",
       "      <th>Surname</th>\n",
       "      <th>CreditScore</th>\n",
       "      <th>Geography</th>\n",
       "      <th>Gender</th>\n",
       "      <th>Age</th>\n",
       "      <th>Tenure</th>\n",
       "      <th>Balance</th>\n",
       "      <th>NumOfProducts</th>\n",
       "      <th>HasCrCard</th>\n",
       "      <th>IsActiveMember</th>\n",
       "      <th>EstimatedSalary</th>\n",
       "      <th>Exited</th>\n",
       "    </tr>\n",
       "  </thead>\n",
       "  <tbody>\n",
       "    <tr>\n",
       "      <th>0</th>\n",
       "      <td>1</td>\n",
       "      <td>15634602</td>\n",
       "      <td>Hargrave</td>\n",
       "      <td>619</td>\n",
       "      <td>France</td>\n",
       "      <td>Female</td>\n",
       "      <td>42</td>\n",
       "      <td>2</td>\n",
       "      <td>0.00</td>\n",
       "      <td>1</td>\n",
       "      <td>1</td>\n",
       "      <td>1</td>\n",
       "      <td>101348.88</td>\n",
       "      <td>1</td>\n",
       "    </tr>\n",
       "    <tr>\n",
       "      <th>1</th>\n",
       "      <td>2</td>\n",
       "      <td>15647311</td>\n",
       "      <td>Hill</td>\n",
       "      <td>608</td>\n",
       "      <td>Spain</td>\n",
       "      <td>Female</td>\n",
       "      <td>41</td>\n",
       "      <td>1</td>\n",
       "      <td>83807.86</td>\n",
       "      <td>1</td>\n",
       "      <td>0</td>\n",
       "      <td>1</td>\n",
       "      <td>112542.58</td>\n",
       "      <td>0</td>\n",
       "    </tr>\n",
       "    <tr>\n",
       "      <th>2</th>\n",
       "      <td>3</td>\n",
       "      <td>15619304</td>\n",
       "      <td>Onio</td>\n",
       "      <td>502</td>\n",
       "      <td>France</td>\n",
       "      <td>Female</td>\n",
       "      <td>42</td>\n",
       "      <td>8</td>\n",
       "      <td>159660.80</td>\n",
       "      <td>3</td>\n",
       "      <td>1</td>\n",
       "      <td>0</td>\n",
       "      <td>113931.57</td>\n",
       "      <td>1</td>\n",
       "    </tr>\n",
       "    <tr>\n",
       "      <th>3</th>\n",
       "      <td>4</td>\n",
       "      <td>15701354</td>\n",
       "      <td>Boni</td>\n",
       "      <td>699</td>\n",
       "      <td>France</td>\n",
       "      <td>Female</td>\n",
       "      <td>39</td>\n",
       "      <td>1</td>\n",
       "      <td>0.00</td>\n",
       "      <td>2</td>\n",
       "      <td>0</td>\n",
       "      <td>0</td>\n",
       "      <td>93826.63</td>\n",
       "      <td>0</td>\n",
       "    </tr>\n",
       "    <tr>\n",
       "      <th>4</th>\n",
       "      <td>5</td>\n",
       "      <td>15737888</td>\n",
       "      <td>Mitchell</td>\n",
       "      <td>850</td>\n",
       "      <td>Spain</td>\n",
       "      <td>Female</td>\n",
       "      <td>43</td>\n",
       "      <td>2</td>\n",
       "      <td>125510.82</td>\n",
       "      <td>1</td>\n",
       "      <td>1</td>\n",
       "      <td>1</td>\n",
       "      <td>79084.10</td>\n",
       "      <td>0</td>\n",
       "    </tr>\n",
       "  </tbody>\n",
       "</table>\n",
       "</div>"
      ],
      "text/plain": [
       "   RowNumber  CustomerId   Surname  CreditScore Geography  Gender  Age  \\\n",
       "0          1    15634602  Hargrave          619    France  Female   42   \n",
       "1          2    15647311      Hill          608     Spain  Female   41   \n",
       "2          3    15619304      Onio          502    France  Female   42   \n",
       "3          4    15701354      Boni          699    France  Female   39   \n",
       "4          5    15737888  Mitchell          850     Spain  Female   43   \n",
       "\n",
       "   Tenure    Balance  NumOfProducts  HasCrCard  IsActiveMember  \\\n",
       "0       2       0.00              1          1               1   \n",
       "1       1   83807.86              1          0               1   \n",
       "2       8  159660.80              3          1               0   \n",
       "3       1       0.00              2          0               0   \n",
       "4       2  125510.82              1          1               1   \n",
       "\n",
       "   EstimatedSalary  Exited  \n",
       "0        101348.88       1  \n",
       "1        112542.58       0  \n",
       "2        113931.57       1  \n",
       "3         93826.63       0  \n",
       "4         79084.10       0  "
      ]
     },
     "execution_count": 3,
     "metadata": {},
     "output_type": "execute_result"
    }
   ],
   "source": [
    "data=pd.read_csv(\"normal1000.csv\")\n",
    "data.head(5)"
   ]
  },
  {
   "cell_type": "code",
   "execution_count": 74,
   "metadata": {},
   "outputs": [
    {
     "data": {
      "text/plain": [
       "False"
      ]
     },
     "execution_count": 74,
     "metadata": {},
     "output_type": "execute_result"
    }
   ],
   "source": [
    "data.isnull().values.any()"
   ]
  },
  {
   "cell_type": "code",
   "execution_count": 75,
   "metadata": {},
   "outputs": [
    {
     "data": {
      "text/html": [
       "<div>\n",
       "<style scoped>\n",
       "    .dataframe tbody tr th:only-of-type {\n",
       "        vertical-align: middle;\n",
       "    }\n",
       "\n",
       "    .dataframe tbody tr th {\n",
       "        vertical-align: top;\n",
       "    }\n",
       "\n",
       "    .dataframe thead th {\n",
       "        text-align: right;\n",
       "    }\n",
       "</style>\n",
       "<table border=\"1\" class=\"dataframe\">\n",
       "  <thead>\n",
       "    <tr style=\"text-align: right;\">\n",
       "      <th></th>\n",
       "      <th>Surname</th>\n",
       "      <th>Geography</th>\n",
       "      <th>Gender</th>\n",
       "    </tr>\n",
       "  </thead>\n",
       "  <tbody>\n",
       "    <tr>\n",
       "      <th>count</th>\n",
       "      <td>10000</td>\n",
       "      <td>10000</td>\n",
       "      <td>10000</td>\n",
       "    </tr>\n",
       "    <tr>\n",
       "      <th>unique</th>\n",
       "      <td>2932</td>\n",
       "      <td>3</td>\n",
       "      <td>2</td>\n",
       "    </tr>\n",
       "    <tr>\n",
       "      <th>top</th>\n",
       "      <td>Smith</td>\n",
       "      <td>France</td>\n",
       "      <td>Male</td>\n",
       "    </tr>\n",
       "    <tr>\n",
       "      <th>freq</th>\n",
       "      <td>32</td>\n",
       "      <td>5014</td>\n",
       "      <td>5457</td>\n",
       "    </tr>\n",
       "  </tbody>\n",
       "</table>\n",
       "</div>"
      ],
      "text/plain": [
       "       Surname Geography Gender\n",
       "count    10000     10000  10000\n",
       "unique    2932         3      2\n",
       "top      Smith    France   Male\n",
       "freq        32      5014   5457"
      ]
     },
     "execution_count": 75,
     "metadata": {},
     "output_type": "execute_result"
    }
   ],
   "source": [
    "data.describe(include=\"object\")"
   ]
  },
  {
   "cell_type": "code",
   "execution_count": 76,
   "metadata": {},
   "outputs": [
    {
     "data": {
      "text/html": [
       "<div>\n",
       "<style scoped>\n",
       "    .dataframe tbody tr th:only-of-type {\n",
       "        vertical-align: middle;\n",
       "    }\n",
       "\n",
       "    .dataframe tbody tr th {\n",
       "        vertical-align: top;\n",
       "    }\n",
       "\n",
       "    .dataframe thead th {\n",
       "        text-align: right;\n",
       "    }\n",
       "</style>\n",
       "<table border=\"1\" class=\"dataframe\">\n",
       "  <thead>\n",
       "    <tr style=\"text-align: right;\">\n",
       "      <th></th>\n",
       "      <th>RowNumber</th>\n",
       "      <th>CustomerId</th>\n",
       "      <th>CreditScore</th>\n",
       "      <th>Age</th>\n",
       "      <th>Tenure</th>\n",
       "      <th>Balance</th>\n",
       "      <th>NumOfProducts</th>\n",
       "      <th>HasCrCard</th>\n",
       "      <th>IsActiveMember</th>\n",
       "      <th>EstimatedSalary</th>\n",
       "      <th>Exited</th>\n",
       "    </tr>\n",
       "  </thead>\n",
       "  <tbody>\n",
       "    <tr>\n",
       "      <th>count</th>\n",
       "      <td>10000.00000</td>\n",
       "      <td>1.000000e+04</td>\n",
       "      <td>10000.000000</td>\n",
       "      <td>10000.000000</td>\n",
       "      <td>10000.000000</td>\n",
       "      <td>10000.000000</td>\n",
       "      <td>10000.000000</td>\n",
       "      <td>10000.00000</td>\n",
       "      <td>10000.000000</td>\n",
       "      <td>10000.000000</td>\n",
       "      <td>10000.000000</td>\n",
       "    </tr>\n",
       "    <tr>\n",
       "      <th>mean</th>\n",
       "      <td>5000.50000</td>\n",
       "      <td>1.569094e+07</td>\n",
       "      <td>650.528800</td>\n",
       "      <td>38.921800</td>\n",
       "      <td>5.012800</td>\n",
       "      <td>76485.889288</td>\n",
       "      <td>1.530200</td>\n",
       "      <td>0.70550</td>\n",
       "      <td>0.515100</td>\n",
       "      <td>100090.239881</td>\n",
       "      <td>0.203700</td>\n",
       "    </tr>\n",
       "    <tr>\n",
       "      <th>std</th>\n",
       "      <td>2886.89568</td>\n",
       "      <td>7.193619e+04</td>\n",
       "      <td>96.653299</td>\n",
       "      <td>10.487806</td>\n",
       "      <td>2.892174</td>\n",
       "      <td>62397.405202</td>\n",
       "      <td>0.581654</td>\n",
       "      <td>0.45584</td>\n",
       "      <td>0.499797</td>\n",
       "      <td>57510.492818</td>\n",
       "      <td>0.402769</td>\n",
       "    </tr>\n",
       "    <tr>\n",
       "      <th>min</th>\n",
       "      <td>1.00000</td>\n",
       "      <td>1.556570e+07</td>\n",
       "      <td>350.000000</td>\n",
       "      <td>18.000000</td>\n",
       "      <td>0.000000</td>\n",
       "      <td>0.000000</td>\n",
       "      <td>1.000000</td>\n",
       "      <td>0.00000</td>\n",
       "      <td>0.000000</td>\n",
       "      <td>11.580000</td>\n",
       "      <td>0.000000</td>\n",
       "    </tr>\n",
       "    <tr>\n",
       "      <th>25%</th>\n",
       "      <td>2500.75000</td>\n",
       "      <td>1.562853e+07</td>\n",
       "      <td>584.000000</td>\n",
       "      <td>32.000000</td>\n",
       "      <td>3.000000</td>\n",
       "      <td>0.000000</td>\n",
       "      <td>1.000000</td>\n",
       "      <td>0.00000</td>\n",
       "      <td>0.000000</td>\n",
       "      <td>51002.110000</td>\n",
       "      <td>0.000000</td>\n",
       "    </tr>\n",
       "    <tr>\n",
       "      <th>50%</th>\n",
       "      <td>5000.50000</td>\n",
       "      <td>1.569074e+07</td>\n",
       "      <td>652.000000</td>\n",
       "      <td>37.000000</td>\n",
       "      <td>5.000000</td>\n",
       "      <td>97198.540000</td>\n",
       "      <td>1.000000</td>\n",
       "      <td>1.00000</td>\n",
       "      <td>1.000000</td>\n",
       "      <td>100193.915000</td>\n",
       "      <td>0.000000</td>\n",
       "    </tr>\n",
       "    <tr>\n",
       "      <th>75%</th>\n",
       "      <td>7500.25000</td>\n",
       "      <td>1.575323e+07</td>\n",
       "      <td>718.000000</td>\n",
       "      <td>44.000000</td>\n",
       "      <td>7.000000</td>\n",
       "      <td>127644.240000</td>\n",
       "      <td>2.000000</td>\n",
       "      <td>1.00000</td>\n",
       "      <td>1.000000</td>\n",
       "      <td>149388.247500</td>\n",
       "      <td>0.000000</td>\n",
       "    </tr>\n",
       "    <tr>\n",
       "      <th>max</th>\n",
       "      <td>10000.00000</td>\n",
       "      <td>1.581569e+07</td>\n",
       "      <td>850.000000</td>\n",
       "      <td>92.000000</td>\n",
       "      <td>10.000000</td>\n",
       "      <td>250898.090000</td>\n",
       "      <td>4.000000</td>\n",
       "      <td>1.00000</td>\n",
       "      <td>1.000000</td>\n",
       "      <td>199992.480000</td>\n",
       "      <td>1.000000</td>\n",
       "    </tr>\n",
       "  </tbody>\n",
       "</table>\n",
       "</div>"
      ],
      "text/plain": [
       "         RowNumber    CustomerId   CreditScore           Age        Tenure  \\\n",
       "count  10000.00000  1.000000e+04  10000.000000  10000.000000  10000.000000   \n",
       "mean    5000.50000  1.569094e+07    650.528800     38.921800      5.012800   \n",
       "std     2886.89568  7.193619e+04     96.653299     10.487806      2.892174   \n",
       "min        1.00000  1.556570e+07    350.000000     18.000000      0.000000   \n",
       "25%     2500.75000  1.562853e+07    584.000000     32.000000      3.000000   \n",
       "50%     5000.50000  1.569074e+07    652.000000     37.000000      5.000000   \n",
       "75%     7500.25000  1.575323e+07    718.000000     44.000000      7.000000   \n",
       "max    10000.00000  1.581569e+07    850.000000     92.000000     10.000000   \n",
       "\n",
       "             Balance  NumOfProducts    HasCrCard  IsActiveMember  \\\n",
       "count   10000.000000   10000.000000  10000.00000    10000.000000   \n",
       "mean    76485.889288       1.530200      0.70550        0.515100   \n",
       "std     62397.405202       0.581654      0.45584        0.499797   \n",
       "min         0.000000       1.000000      0.00000        0.000000   \n",
       "25%         0.000000       1.000000      0.00000        0.000000   \n",
       "50%     97198.540000       1.000000      1.00000        1.000000   \n",
       "75%    127644.240000       2.000000      1.00000        1.000000   \n",
       "max    250898.090000       4.000000      1.00000        1.000000   \n",
       "\n",
       "       EstimatedSalary        Exited  \n",
       "count     10000.000000  10000.000000  \n",
       "mean     100090.239881      0.203700  \n",
       "std       57510.492818      0.402769  \n",
       "min          11.580000      0.000000  \n",
       "25%       51002.110000      0.000000  \n",
       "50%      100193.915000      0.000000  \n",
       "75%      149388.247500      0.000000  \n",
       "max      199992.480000      1.000000  "
      ]
     },
     "execution_count": 76,
     "metadata": {},
     "output_type": "execute_result"
    }
   ],
   "source": [
    "data.describe()"
   ]
  },
  {
   "cell_type": "code",
   "execution_count": 77,
   "metadata": {},
   "outputs": [
    {
     "name": "stdout",
     "output_type": "stream",
     "text": [
      "<class 'pandas.core.frame.DataFrame'>\n",
      "RangeIndex: 10000 entries, 0 to 9999\n",
      "Data columns (total 14 columns):\n",
      "RowNumber          10000 non-null int64\n",
      "CustomerId         10000 non-null int64\n",
      "Surname            10000 non-null object\n",
      "CreditScore        10000 non-null int64\n",
      "Geography          10000 non-null object\n",
      "Gender             10000 non-null object\n",
      "Age                10000 non-null int64\n",
      "Tenure             10000 non-null int64\n",
      "Balance            10000 non-null float64\n",
      "NumOfProducts      10000 non-null int64\n",
      "HasCrCard          10000 non-null int64\n",
      "IsActiveMember     10000 non-null int64\n",
      "EstimatedSalary    10000 non-null float64\n",
      "Exited             10000 non-null int64\n",
      "dtypes: float64(2), int64(9), object(3)\n",
      "memory usage: 1.1+ MB\n"
     ]
    }
   ],
   "source": [
    "data.info()"
   ]
  },
  {
   "cell_type": "code",
   "execution_count": 78,
   "metadata": {},
   "outputs": [
    {
     "data": {
      "text/plain": [
       "(10000, 14)"
      ]
     },
     "execution_count": 78,
     "metadata": {},
     "output_type": "execute_result"
    }
   ],
   "source": [
    "data.shape"
   ]
  },
  {
   "cell_type": "code",
   "execution_count": 79,
   "metadata": {},
   "outputs": [
    {
     "data": {
      "text/plain": [
       "Index(['RowNumber', 'CustomerId', 'Surname', 'CreditScore', 'Geography',\n",
       "       'Gender', 'Age', 'Tenure', 'Balance', 'NumOfProducts', 'HasCrCard',\n",
       "       'IsActiveMember', 'EstimatedSalary', 'Exited'],\n",
       "      dtype='object')"
      ]
     },
     "execution_count": 79,
     "metadata": {},
     "output_type": "execute_result"
    }
   ],
   "source": [
    "data.columns"
   ]
  },
  {
   "cell_type": "code",
   "execution_count": 80,
   "metadata": {},
   "outputs": [
    {
     "data": {
      "text/plain": [
       "Index(['CreditScore', 'Geography', 'Gender', 'Age', 'Tenure', 'Balance',\n",
       "       'NumOfProducts', 'HasCrCard', 'IsActiveMember', 'EstimatedSalary'],\n",
       "      dtype='object')"
      ]
     },
     "execution_count": 80,
     "metadata": {},
     "output_type": "execute_result"
    }
   ],
   "source": [
    "x = data.iloc[:, 3:13]\n",
    "x.columns"
   ]
  },
  {
   "cell_type": "code",
   "execution_count": 81,
   "metadata": {},
   "outputs": [
    {
     "data": {
      "text/plain": [
       "0    1\n",
       "1    0\n",
       "2    1\n",
       "3    0\n",
       "4    0\n",
       "Name: Exited, dtype: int64"
      ]
     },
     "execution_count": 81,
     "metadata": {},
     "output_type": "execute_result"
    }
   ],
   "source": [
    "y = data.iloc[:, 13]\n",
    "y.head(5)"
   ]
  },
  {
   "cell_type": "code",
   "execution_count": 82,
   "metadata": {},
   "outputs": [
    {
     "data": {
      "text/html": [
       "<div>\n",
       "<style scoped>\n",
       "    .dataframe tbody tr th:only-of-type {\n",
       "        vertical-align: middle;\n",
       "    }\n",
       "\n",
       "    .dataframe tbody tr th {\n",
       "        vertical-align: top;\n",
       "    }\n",
       "\n",
       "    .dataframe thead th {\n",
       "        text-align: right;\n",
       "    }\n",
       "</style>\n",
       "<table border=\"1\" class=\"dataframe\">\n",
       "  <thead>\n",
       "    <tr style=\"text-align: right;\">\n",
       "      <th></th>\n",
       "      <th>CreditScore</th>\n",
       "      <th>Geography</th>\n",
       "      <th>Gender</th>\n",
       "      <th>Age</th>\n",
       "      <th>Tenure</th>\n",
       "      <th>Balance</th>\n",
       "      <th>NumOfProducts</th>\n",
       "      <th>HasCrCard</th>\n",
       "      <th>IsActiveMember</th>\n",
       "      <th>EstimatedSalary</th>\n",
       "    </tr>\n",
       "  </thead>\n",
       "  <tbody>\n",
       "    <tr>\n",
       "      <th>0</th>\n",
       "      <td>619</td>\n",
       "      <td>France</td>\n",
       "      <td>Female</td>\n",
       "      <td>42</td>\n",
       "      <td>2</td>\n",
       "      <td>0.00</td>\n",
       "      <td>1</td>\n",
       "      <td>1</td>\n",
       "      <td>1</td>\n",
       "      <td>101348.88</td>\n",
       "    </tr>\n",
       "    <tr>\n",
       "      <th>1</th>\n",
       "      <td>608</td>\n",
       "      <td>Spain</td>\n",
       "      <td>Female</td>\n",
       "      <td>41</td>\n",
       "      <td>1</td>\n",
       "      <td>83807.86</td>\n",
       "      <td>1</td>\n",
       "      <td>0</td>\n",
       "      <td>1</td>\n",
       "      <td>112542.58</td>\n",
       "    </tr>\n",
       "    <tr>\n",
       "      <th>2</th>\n",
       "      <td>502</td>\n",
       "      <td>France</td>\n",
       "      <td>Female</td>\n",
       "      <td>42</td>\n",
       "      <td>8</td>\n",
       "      <td>159660.80</td>\n",
       "      <td>3</td>\n",
       "      <td>1</td>\n",
       "      <td>0</td>\n",
       "      <td>113931.57</td>\n",
       "    </tr>\n",
       "    <tr>\n",
       "      <th>3</th>\n",
       "      <td>699</td>\n",
       "      <td>France</td>\n",
       "      <td>Female</td>\n",
       "      <td>39</td>\n",
       "      <td>1</td>\n",
       "      <td>0.00</td>\n",
       "      <td>2</td>\n",
       "      <td>0</td>\n",
       "      <td>0</td>\n",
       "      <td>93826.63</td>\n",
       "    </tr>\n",
       "    <tr>\n",
       "      <th>4</th>\n",
       "      <td>850</td>\n",
       "      <td>Spain</td>\n",
       "      <td>Female</td>\n",
       "      <td>43</td>\n",
       "      <td>2</td>\n",
       "      <td>125510.82</td>\n",
       "      <td>1</td>\n",
       "      <td>1</td>\n",
       "      <td>1</td>\n",
       "      <td>79084.10</td>\n",
       "    </tr>\n",
       "  </tbody>\n",
       "</table>\n",
       "</div>"
      ],
      "text/plain": [
       "   CreditScore Geography  Gender  Age  Tenure    Balance  NumOfProducts  \\\n",
       "0          619    France  Female   42       2       0.00              1   \n",
       "1          608     Spain  Female   41       1   83807.86              1   \n",
       "2          502    France  Female   42       8  159660.80              3   \n",
       "3          699    France  Female   39       1       0.00              2   \n",
       "4          850     Spain  Female   43       2  125510.82              1   \n",
       "\n",
       "   HasCrCard  IsActiveMember  EstimatedSalary  \n",
       "0          1               1        101348.88  \n",
       "1          0               1        112542.58  \n",
       "2          1               0        113931.57  \n",
       "3          0               0         93826.63  \n",
       "4          1               1         79084.10  "
      ]
     },
     "execution_count": 82,
     "metadata": {},
     "output_type": "execute_result"
    }
   ],
   "source": [
    "x=data[(['CreditScore', 'Geography', 'Gender', 'Age', 'Tenure', 'Balance',\n",
    "       'NumOfProducts', 'HasCrCard', 'IsActiveMember', 'EstimatedSalary'])]\n",
    "x.head(5)"
   ]
  },
  {
   "cell_type": "code",
   "execution_count": 83,
   "metadata": {},
   "outputs": [],
   "source": [
    "geography=pd.get_dummies(x[\"Geography\"],drop_first=True)\n",
    "gender=pd.get_dummies(x['Gender'],drop_first=True)"
   ]
  },
  {
   "cell_type": "code",
   "execution_count": 84,
   "metadata": {},
   "outputs": [],
   "source": [
    "x=pd.concat([x,geography,gender],axis=1)"
   ]
  },
  {
   "cell_type": "code",
   "execution_count": 85,
   "metadata": {},
   "outputs": [
    {
     "data": {
      "text/html": [
       "<div>\n",
       "<style scoped>\n",
       "    .dataframe tbody tr th:only-of-type {\n",
       "        vertical-align: middle;\n",
       "    }\n",
       "\n",
       "    .dataframe tbody tr th {\n",
       "        vertical-align: top;\n",
       "    }\n",
       "\n",
       "    .dataframe thead th {\n",
       "        text-align: right;\n",
       "    }\n",
       "</style>\n",
       "<table border=\"1\" class=\"dataframe\">\n",
       "  <thead>\n",
       "    <tr style=\"text-align: right;\">\n",
       "      <th></th>\n",
       "      <th>CreditScore</th>\n",
       "      <th>Geography</th>\n",
       "      <th>Gender</th>\n",
       "      <th>Age</th>\n",
       "      <th>Tenure</th>\n",
       "      <th>Balance</th>\n",
       "      <th>NumOfProducts</th>\n",
       "      <th>HasCrCard</th>\n",
       "      <th>IsActiveMember</th>\n",
       "      <th>EstimatedSalary</th>\n",
       "      <th>Germany</th>\n",
       "      <th>Spain</th>\n",
       "      <th>Male</th>\n",
       "    </tr>\n",
       "  </thead>\n",
       "  <tbody>\n",
       "    <tr>\n",
       "      <th>0</th>\n",
       "      <td>619</td>\n",
       "      <td>France</td>\n",
       "      <td>Female</td>\n",
       "      <td>42</td>\n",
       "      <td>2</td>\n",
       "      <td>0.00</td>\n",
       "      <td>1</td>\n",
       "      <td>1</td>\n",
       "      <td>1</td>\n",
       "      <td>101348.88</td>\n",
       "      <td>0</td>\n",
       "      <td>0</td>\n",
       "      <td>0</td>\n",
       "    </tr>\n",
       "    <tr>\n",
       "      <th>1</th>\n",
       "      <td>608</td>\n",
       "      <td>Spain</td>\n",
       "      <td>Female</td>\n",
       "      <td>41</td>\n",
       "      <td>1</td>\n",
       "      <td>83807.86</td>\n",
       "      <td>1</td>\n",
       "      <td>0</td>\n",
       "      <td>1</td>\n",
       "      <td>112542.58</td>\n",
       "      <td>0</td>\n",
       "      <td>1</td>\n",
       "      <td>0</td>\n",
       "    </tr>\n",
       "    <tr>\n",
       "      <th>2</th>\n",
       "      <td>502</td>\n",
       "      <td>France</td>\n",
       "      <td>Female</td>\n",
       "      <td>42</td>\n",
       "      <td>8</td>\n",
       "      <td>159660.80</td>\n",
       "      <td>3</td>\n",
       "      <td>1</td>\n",
       "      <td>0</td>\n",
       "      <td>113931.57</td>\n",
       "      <td>0</td>\n",
       "      <td>0</td>\n",
       "      <td>0</td>\n",
       "    </tr>\n",
       "    <tr>\n",
       "      <th>3</th>\n",
       "      <td>699</td>\n",
       "      <td>France</td>\n",
       "      <td>Female</td>\n",
       "      <td>39</td>\n",
       "      <td>1</td>\n",
       "      <td>0.00</td>\n",
       "      <td>2</td>\n",
       "      <td>0</td>\n",
       "      <td>0</td>\n",
       "      <td>93826.63</td>\n",
       "      <td>0</td>\n",
       "      <td>0</td>\n",
       "      <td>0</td>\n",
       "    </tr>\n",
       "    <tr>\n",
       "      <th>4</th>\n",
       "      <td>850</td>\n",
       "      <td>Spain</td>\n",
       "      <td>Female</td>\n",
       "      <td>43</td>\n",
       "      <td>2</td>\n",
       "      <td>125510.82</td>\n",
       "      <td>1</td>\n",
       "      <td>1</td>\n",
       "      <td>1</td>\n",
       "      <td>79084.10</td>\n",
       "      <td>0</td>\n",
       "      <td>1</td>\n",
       "      <td>0</td>\n",
       "    </tr>\n",
       "  </tbody>\n",
       "</table>\n",
       "</div>"
      ],
      "text/plain": [
       "   CreditScore Geography  Gender  Age  Tenure    Balance  NumOfProducts  \\\n",
       "0          619    France  Female   42       2       0.00              1   \n",
       "1          608     Spain  Female   41       1   83807.86              1   \n",
       "2          502    France  Female   42       8  159660.80              3   \n",
       "3          699    France  Female   39       1       0.00              2   \n",
       "4          850     Spain  Female   43       2  125510.82              1   \n",
       "\n",
       "   HasCrCard  IsActiveMember  EstimatedSalary  Germany  Spain  Male  \n",
       "0          1               1        101348.88        0      0     0  \n",
       "1          0               1        112542.58        0      1     0  \n",
       "2          1               0        113931.57        0      0     0  \n",
       "3          0               0         93826.63        0      0     0  \n",
       "4          1               1         79084.10        0      1     0  "
      ]
     },
     "execution_count": 85,
     "metadata": {},
     "output_type": "execute_result"
    }
   ],
   "source": [
    "x.head(5)"
   ]
  },
  {
   "cell_type": "code",
   "execution_count": 86,
   "metadata": {},
   "outputs": [],
   "source": [
    "x=x.drop(['Geography','Gender'],axis=1)"
   ]
  },
  {
   "cell_type": "code",
   "execution_count": 87,
   "metadata": {},
   "outputs": [
    {
     "data": {
      "text/html": [
       "<div>\n",
       "<style scoped>\n",
       "    .dataframe tbody tr th:only-of-type {\n",
       "        vertical-align: middle;\n",
       "    }\n",
       "\n",
       "    .dataframe tbody tr th {\n",
       "        vertical-align: top;\n",
       "    }\n",
       "\n",
       "    .dataframe thead th {\n",
       "        text-align: right;\n",
       "    }\n",
       "</style>\n",
       "<table border=\"1\" class=\"dataframe\">\n",
       "  <thead>\n",
       "    <tr style=\"text-align: right;\">\n",
       "      <th></th>\n",
       "      <th>CreditScore</th>\n",
       "      <th>Age</th>\n",
       "      <th>Tenure</th>\n",
       "      <th>Balance</th>\n",
       "      <th>NumOfProducts</th>\n",
       "      <th>HasCrCard</th>\n",
       "      <th>IsActiveMember</th>\n",
       "      <th>EstimatedSalary</th>\n",
       "      <th>Germany</th>\n",
       "      <th>Spain</th>\n",
       "      <th>Male</th>\n",
       "    </tr>\n",
       "  </thead>\n",
       "  <tbody>\n",
       "    <tr>\n",
       "      <th>0</th>\n",
       "      <td>619</td>\n",
       "      <td>42</td>\n",
       "      <td>2</td>\n",
       "      <td>0.00</td>\n",
       "      <td>1</td>\n",
       "      <td>1</td>\n",
       "      <td>1</td>\n",
       "      <td>101348.88</td>\n",
       "      <td>0</td>\n",
       "      <td>0</td>\n",
       "      <td>0</td>\n",
       "    </tr>\n",
       "    <tr>\n",
       "      <th>1</th>\n",
       "      <td>608</td>\n",
       "      <td>41</td>\n",
       "      <td>1</td>\n",
       "      <td>83807.86</td>\n",
       "      <td>1</td>\n",
       "      <td>0</td>\n",
       "      <td>1</td>\n",
       "      <td>112542.58</td>\n",
       "      <td>0</td>\n",
       "      <td>1</td>\n",
       "      <td>0</td>\n",
       "    </tr>\n",
       "    <tr>\n",
       "      <th>2</th>\n",
       "      <td>502</td>\n",
       "      <td>42</td>\n",
       "      <td>8</td>\n",
       "      <td>159660.80</td>\n",
       "      <td>3</td>\n",
       "      <td>1</td>\n",
       "      <td>0</td>\n",
       "      <td>113931.57</td>\n",
       "      <td>0</td>\n",
       "      <td>0</td>\n",
       "      <td>0</td>\n",
       "    </tr>\n",
       "    <tr>\n",
       "      <th>3</th>\n",
       "      <td>699</td>\n",
       "      <td>39</td>\n",
       "      <td>1</td>\n",
       "      <td>0.00</td>\n",
       "      <td>2</td>\n",
       "      <td>0</td>\n",
       "      <td>0</td>\n",
       "      <td>93826.63</td>\n",
       "      <td>0</td>\n",
       "      <td>0</td>\n",
       "      <td>0</td>\n",
       "    </tr>\n",
       "    <tr>\n",
       "      <th>4</th>\n",
       "      <td>850</td>\n",
       "      <td>43</td>\n",
       "      <td>2</td>\n",
       "      <td>125510.82</td>\n",
       "      <td>1</td>\n",
       "      <td>1</td>\n",
       "      <td>1</td>\n",
       "      <td>79084.10</td>\n",
       "      <td>0</td>\n",
       "      <td>1</td>\n",
       "      <td>0</td>\n",
       "    </tr>\n",
       "  </tbody>\n",
       "</table>\n",
       "</div>"
      ],
      "text/plain": [
       "   CreditScore  Age  Tenure    Balance  NumOfProducts  HasCrCard  \\\n",
       "0          619   42       2       0.00              1          1   \n",
       "1          608   41       1   83807.86              1          0   \n",
       "2          502   42       8  159660.80              3          1   \n",
       "3          699   39       1       0.00              2          0   \n",
       "4          850   43       2  125510.82              1          1   \n",
       "\n",
       "   IsActiveMember  EstimatedSalary  Germany  Spain  Male  \n",
       "0               1        101348.88        0      0     0  \n",
       "1               1        112542.58        0      1     0  \n",
       "2               0        113931.57        0      0     0  \n",
       "3               0         93826.63        0      0     0  \n",
       "4               1         79084.10        0      1     0  "
      ]
     },
     "execution_count": 87,
     "metadata": {},
     "output_type": "execute_result"
    }
   ],
   "source": [
    "x.head(5)"
   ]
  },
  {
   "cell_type": "code",
   "execution_count": 88,
   "metadata": {},
   "outputs": [],
   "source": [
    "from sklearn.model_selection import train_test_split\n",
    "x_train, x_test, y_train, y_test = train_test_split(x, y, test_size = 0.2, random_state = 0)"
   ]
  },
  {
   "cell_type": "code",
   "execution_count": 89,
   "metadata": {},
   "outputs": [
    {
     "data": {
      "text/plain": [
       "(8000, 11)"
      ]
     },
     "execution_count": 89,
     "metadata": {},
     "output_type": "execute_result"
    }
   ],
   "source": [
    "x_train.shape"
   ]
  },
  {
   "cell_type": "code",
   "execution_count": 90,
   "metadata": {},
   "outputs": [
    {
     "data": {
      "text/plain": [
       "(8000,)"
      ]
     },
     "execution_count": 90,
     "metadata": {},
     "output_type": "execute_result"
    }
   ],
   "source": [
    "y_train.shape"
   ]
  },
  {
   "cell_type": "code",
   "execution_count": 91,
   "metadata": {},
   "outputs": [
    {
     "data": {
      "text/plain": [
       "(2000, 11)"
      ]
     },
     "execution_count": 91,
     "metadata": {},
     "output_type": "execute_result"
    }
   ],
   "source": [
    "x_test.shape\n"
   ]
  },
  {
   "cell_type": "code",
   "execution_count": 92,
   "metadata": {},
   "outputs": [
    {
     "data": {
      "text/plain": [
       "(2000,)"
      ]
     },
     "execution_count": 92,
     "metadata": {},
     "output_type": "execute_result"
    }
   ],
   "source": [
    "y_test.shape"
   ]
  },
  {
   "cell_type": "code",
   "execution_count": 93,
   "metadata": {},
   "outputs": [],
   "source": [
    "from sklearn.preprocessing import StandardScaler\n",
    "sc = StandardScaler()\n",
    "x_train = sc.fit_transform(x_train)\n",
    "x_test = sc.transform(x_test)"
   ]
  },
  {
   "cell_type": "code",
   "execution_count": 94,
   "metadata": {},
   "outputs": [],
   "source": [
    "import keras\n",
    "from keras.models import Sequential\n",
    "from keras.layers import Dense\n",
    "from keras.layers import LeakyReLU,PReLU,ELU\n",
    "from keras.layers import Dropout"
   ]
  },
  {
   "cell_type": "code",
   "execution_count": 95,
   "metadata": {},
   "outputs": [],
   "source": [
    "classifier = Sequential()"
   ]
  },
  {
   "cell_type": "code",
   "execution_count": 96,
   "metadata": {},
   "outputs": [],
   "source": [
    "classifier.add(Dense(units = 6,activation='relu',input_dim = 11))"
   ]
  },
  {
   "cell_type": "code",
   "execution_count": 97,
   "metadata": {},
   "outputs": [],
   "source": [
    "classifier.add(Dense(units= 6, activation='relu'))"
   ]
  },
  {
   "cell_type": "code",
   "execution_count": 98,
   "metadata": {},
   "outputs": [],
   "source": [
    "classifier.add(Dense(units= 1, activation = 'sigmoid'))"
   ]
  },
  {
   "cell_type": "code",
   "execution_count": 99,
   "metadata": {},
   "outputs": [],
   "source": [
    "classifier.compile(optimizer = 'Adamax', loss = 'binary_crossentropy', metrics = ['accuracy'])"
   ]
  },
  {
   "cell_type": "code",
   "execution_count": 100,
   "metadata": {},
   "outputs": [
    {
     "name": "stdout",
     "output_type": "stream",
     "text": [
      "Train on 5359 samples, validate on 2641 samples\n",
      "Epoch 1/100\n",
      "5359/5359 [==============================] - 1s 120us/step - loss: 0.6652 - accuracy: 0.6613 - val_loss: 0.5627 - val_accuracy: 0.7876\n",
      "Epoch 2/100\n",
      "5359/5359 [==============================] - ETA: 0s - loss: 0.5304 - accuracy: 0.79 - 0s 83us/step - loss: 0.5272 - accuracy: 0.7953 - val_loss: 0.5065 - val_accuracy: 0.7948\n",
      "Epoch 3/100\n",
      "5359/5359 [==============================] - 0s 84us/step - loss: 0.4977 - accuracy: 0.7981 - val_loss: 0.4889 - val_accuracy: 0.7936\n",
      "Epoch 4/100\n",
      "5359/5359 [==============================] - 0s 83us/step - loss: 0.4804 - accuracy: 0.8001 - val_loss: 0.4717 - val_accuracy: 0.7974\n",
      "Epoch 5/100\n",
      "5359/5359 [==============================] - 0s 84us/step - loss: 0.4631 - accuracy: 0.8043 - val_loss: 0.4595 - val_accuracy: 0.8054\n",
      "Epoch 6/100\n",
      "5359/5359 [==============================] - 0s 84us/step - loss: 0.4499 - accuracy: 0.8113 - val_loss: 0.4516 - val_accuracy: 0.8076\n",
      "Epoch 7/100\n",
      "5359/5359 [==============================] - 0s 85us/step - loss: 0.4407 - accuracy: 0.8186 - val_loss: 0.4465 - val_accuracy: 0.8111\n",
      "Epoch 8/100\n",
      "5359/5359 [==============================] - 0s 84us/step - loss: 0.4344 - accuracy: 0.8229 - val_loss: 0.4428 - val_accuracy: 0.8133\n",
      "Epoch 9/100\n",
      "5359/5359 [==============================] - ETA: 0s - loss: 0.4288 - accuracy: 0.82 - 0s 83us/step - loss: 0.4292 - accuracy: 0.8246 - val_loss: 0.4390 - val_accuracy: 0.8152\n",
      "Epoch 10/100\n",
      "5359/5359 [==============================] - 0s 89us/step - loss: 0.4243 - accuracy: 0.8280 - val_loss: 0.4353 - val_accuracy: 0.8201\n",
      "Epoch 11/100\n",
      "5359/5359 [==============================] - 0s 89us/step - loss: 0.4195 - accuracy: 0.8293 - val_loss: 0.4312 - val_accuracy: 0.8224\n",
      "Epoch 12/100\n",
      "5359/5359 [==============================] - 0s 86us/step - loss: 0.4143 - accuracy: 0.8326 - val_loss: 0.4266 - val_accuracy: 0.8217\n",
      "Epoch 13/100\n",
      "5359/5359 [==============================] - 0s 84us/step - loss: 0.4092 - accuracy: 0.8343 - val_loss: 0.4220 - val_accuracy: 0.8243\n",
      "Epoch 14/100\n",
      "5359/5359 [==============================] - 0s 85us/step - loss: 0.4040 - accuracy: 0.8367 - val_loss: 0.4174 - val_accuracy: 0.8289\n",
      "Epoch 15/100\n",
      "5359/5359 [==============================] - 0s 85us/step - loss: 0.3990 - accuracy: 0.8380 - val_loss: 0.4122 - val_accuracy: 0.8300\n",
      "Epoch 16/100\n",
      "5359/5359 [==============================] - 0s 84us/step - loss: 0.3928 - accuracy: 0.8401 - val_loss: 0.4058 - val_accuracy: 0.8307\n",
      "Epoch 17/100\n",
      "5359/5359 [==============================] - 0s 84us/step - loss: 0.3863 - accuracy: 0.8416 - val_loss: 0.3993 - val_accuracy: 0.8304\n",
      "Epoch 18/100\n",
      "5359/5359 [==============================] - 0s 84us/step - loss: 0.3795 - accuracy: 0.8434 - val_loss: 0.3934 - val_accuracy: 0.8315\n",
      "Epoch 19/100\n",
      "5359/5359 [==============================] - 0s 84us/step - loss: 0.3738 - accuracy: 0.8468 - val_loss: 0.3891 - val_accuracy: 0.8330\n",
      "Epoch 20/100\n",
      "5359/5359 [==============================] - 0s 84us/step - loss: 0.3684 - accuracy: 0.8481 - val_loss: 0.3846 - val_accuracy: 0.8326\n",
      "Epoch 21/100\n",
      "5359/5359 [==============================] - 0s 88us/step - loss: 0.3634 - accuracy: 0.8515 - val_loss: 0.3818 - val_accuracy: 0.8357\n",
      "Epoch 22/100\n",
      "5359/5359 [==============================] - 0s 84us/step - loss: 0.3600 - accuracy: 0.8526 - val_loss: 0.3786 - val_accuracy: 0.8360\n",
      "Epoch 23/100\n",
      "5359/5359 [==============================] - 0s 84us/step - loss: 0.3565 - accuracy: 0.8546 - val_loss: 0.3763 - val_accuracy: 0.8387\n",
      "Epoch 24/100\n",
      "5359/5359 [==============================] - 0s 85us/step - loss: 0.3537 - accuracy: 0.8558 - val_loss: 0.3745 - val_accuracy: 0.8372\n",
      "Epoch 25/100\n",
      "5359/5359 [==============================] - 0s 89us/step - loss: 0.3518 - accuracy: 0.8561 - val_loss: 0.3734 - val_accuracy: 0.8402\n",
      "Epoch 26/100\n",
      "5359/5359 [==============================] - 0s 91us/step - loss: 0.3494 - accuracy: 0.8582 - val_loss: 0.3714 - val_accuracy: 0.8436\n",
      "Epoch 27/100\n",
      "5359/5359 [==============================] - 0s 80us/step - loss: 0.3476 - accuracy: 0.8565 - val_loss: 0.3708 - val_accuracy: 0.8429\n",
      "Epoch 28/100\n",
      "5359/5359 [==============================] - 0s 89us/step - loss: 0.3462 - accuracy: 0.8584 - val_loss: 0.3702 - val_accuracy: 0.8444\n",
      "Epoch 29/100\n",
      "5359/5359 [==============================] - 0s 78us/step - loss: 0.3447 - accuracy: 0.8584 - val_loss: 0.3694 - val_accuracy: 0.8425\n",
      "Epoch 30/100\n",
      "5359/5359 [==============================] - 0s 81us/step - loss: 0.3434 - accuracy: 0.8595 - val_loss: 0.3681 - val_accuracy: 0.8429\n",
      "Epoch 31/100\n",
      "5359/5359 [==============================] - 0s 82us/step - loss: 0.3422 - accuracy: 0.8591 - val_loss: 0.3673 - val_accuracy: 0.8425\n",
      "Epoch 32/100\n",
      "5359/5359 [==============================] - 0s 87us/step - loss: 0.3410 - accuracy: 0.8627 - val_loss: 0.3677 - val_accuracy: 0.8448\n",
      "Epoch 33/100\n",
      "5359/5359 [==============================] - 0s 86us/step - loss: 0.3402 - accuracy: 0.8612 - val_loss: 0.3688 - val_accuracy: 0.8463\n",
      "Epoch 34/100\n",
      "5359/5359 [==============================] - 0s 84us/step - loss: 0.3395 - accuracy: 0.8591 - val_loss: 0.3663 - val_accuracy: 0.8425\n",
      "Epoch 35/100\n",
      "5359/5359 [==============================] - 0s 81us/step - loss: 0.3388 - accuracy: 0.8606 - val_loss: 0.3666 - val_accuracy: 0.8436\n",
      "Epoch 36/100\n",
      "5359/5359 [==============================] - 0s 81us/step - loss: 0.3380 - accuracy: 0.8612 - val_loss: 0.3658 - val_accuracy: 0.8455\n",
      "Epoch 37/100\n",
      "5359/5359 [==============================] - 0s 83us/step - loss: 0.3377 - accuracy: 0.8627 - val_loss: 0.3658 - val_accuracy: 0.8463\n",
      "Epoch 38/100\n",
      "5359/5359 [==============================] - 0s 83us/step - loss: 0.3370 - accuracy: 0.8614 - val_loss: 0.3655 - val_accuracy: 0.8444\n",
      "Epoch 39/100\n",
      "5359/5359 [==============================] - 0s 84us/step - loss: 0.3363 - accuracy: 0.8625 - val_loss: 0.3654 - val_accuracy: 0.8466\n",
      "Epoch 40/100\n",
      "5359/5359 [==============================] - 0s 83us/step - loss: 0.3362 - accuracy: 0.8634 - val_loss: 0.3651 - val_accuracy: 0.8470\n",
      "Epoch 41/100\n",
      "5359/5359 [==============================] - 0s 85us/step - loss: 0.3356 - accuracy: 0.8619 - val_loss: 0.3651 - val_accuracy: 0.8474\n",
      "Epoch 42/100\n",
      "5359/5359 [==============================] - 0s 84us/step - loss: 0.3354 - accuracy: 0.8630 - val_loss: 0.3645 - val_accuracy: 0.8489\n",
      "Epoch 43/100\n",
      "5359/5359 [==============================] - 0s 91us/step - loss: 0.3350 - accuracy: 0.8614 - val_loss: 0.3642 - val_accuracy: 0.8493\n",
      "Epoch 44/100\n",
      "5359/5359 [==============================] - 0s 86us/step - loss: 0.3347 - accuracy: 0.8625 - val_loss: 0.3641 - val_accuracy: 0.8485\n",
      "Epoch 45/100\n",
      "5359/5359 [==============================] - 0s 86us/step - loss: 0.3341 - accuracy: 0.8617 - val_loss: 0.3635 - val_accuracy: 0.8497\n",
      "Epoch 46/100\n",
      "5359/5359 [==============================] - 0s 83us/step - loss: 0.3339 - accuracy: 0.8627 - val_loss: 0.3637 - val_accuracy: 0.8489\n",
      "Epoch 47/100\n",
      "5359/5359 [==============================] - 0s 84us/step - loss: 0.3338 - accuracy: 0.8640 - val_loss: 0.3627 - val_accuracy: 0.8519\n",
      "Epoch 48/100\n",
      "5359/5359 [==============================] - 0s 83us/step - loss: 0.3335 - accuracy: 0.8625 - val_loss: 0.3631 - val_accuracy: 0.8504\n",
      "Epoch 49/100\n",
      "5359/5359 [==============================] - 0s 83us/step - loss: 0.3331 - accuracy: 0.8621 - val_loss: 0.3632 - val_accuracy: 0.8535\n",
      "Epoch 50/100\n",
      "5359/5359 [==============================] - 0s 85us/step - loss: 0.3324 - accuracy: 0.8606 - val_loss: 0.3638 - val_accuracy: 0.8512\n",
      "Epoch 51/100\n",
      "5359/5359 [==============================] - 0s 83us/step - loss: 0.3329 - accuracy: 0.8649 - val_loss: 0.3629 - val_accuracy: 0.8508\n",
      "Epoch 52/100\n",
      "5359/5359 [==============================] - 0s 84us/step - loss: 0.3323 - accuracy: 0.8623 - val_loss: 0.3642 - val_accuracy: 0.8466\n",
      "Epoch 53/100\n",
      "5359/5359 [==============================] - 0s 84us/step - loss: 0.3324 - accuracy: 0.8632 - val_loss: 0.3642 - val_accuracy: 0.8485\n",
      "Epoch 54/100\n",
      "5359/5359 [==============================] - 0s 88us/step - loss: 0.3322 - accuracy: 0.8628 - val_loss: 0.3619 - val_accuracy: 0.8512\n",
      "Epoch 55/100\n",
      "5359/5359 [==============================] - 0s 87us/step - loss: 0.3320 - accuracy: 0.8630 - val_loss: 0.3622 - val_accuracy: 0.8535\n"
     ]
    },
    {
     "name": "stdout",
     "output_type": "stream",
     "text": [
      "Epoch 56/100\n",
      "5359/5359 [==============================] - 0s 85us/step - loss: 0.3319 - accuracy: 0.8625 - val_loss: 0.3627 - val_accuracy: 0.8501\n",
      "Epoch 57/100\n",
      "5359/5359 [==============================] - 0s 82us/step - loss: 0.3318 - accuracy: 0.8625 - val_loss: 0.3628 - val_accuracy: 0.8512\n",
      "Epoch 58/100\n",
      "5359/5359 [==============================] - 0s 83us/step - loss: 0.3315 - accuracy: 0.8638 - val_loss: 0.3622 - val_accuracy: 0.8512\n",
      "Epoch 59/100\n",
      "5359/5359 [==============================] - 0s 82us/step - loss: 0.3314 - accuracy: 0.8628 - val_loss: 0.3626 - val_accuracy: 0.8512\n",
      "Epoch 60/100\n",
      "5359/5359 [==============================] - 0s 87us/step - loss: 0.3311 - accuracy: 0.8638 - val_loss: 0.3624 - val_accuracy: 0.8508\n",
      "Epoch 61/100\n",
      "5359/5359 [==============================] - 0s 84us/step - loss: 0.3310 - accuracy: 0.8630 - val_loss: 0.3625 - val_accuracy: 0.8497\n",
      "Epoch 62/100\n",
      "5359/5359 [==============================] - 0s 82us/step - loss: 0.3307 - accuracy: 0.8632 - val_loss: 0.3637 - val_accuracy: 0.8485\n",
      "Epoch 63/100\n",
      "5359/5359 [==============================] - 0s 86us/step - loss: 0.3307 - accuracy: 0.8614 - val_loss: 0.3616 - val_accuracy: 0.8508\n",
      "Epoch 64/100\n",
      "5359/5359 [==============================] - 0s 81us/step - loss: 0.3306 - accuracy: 0.8632 - val_loss: 0.3627 - val_accuracy: 0.8489\n",
      "Epoch 65/100\n",
      "5359/5359 [==============================] - 0s 82us/step - loss: 0.3300 - accuracy: 0.8625 - val_loss: 0.3602 - val_accuracy: 0.8523\n",
      "Epoch 66/100\n",
      "5359/5359 [==============================] - 0s 83us/step - loss: 0.3302 - accuracy: 0.8630 - val_loss: 0.3607 - val_accuracy: 0.8508\n",
      "Epoch 67/100\n",
      "5359/5359 [==============================] - 0s 83us/step - loss: 0.3303 - accuracy: 0.8645 - val_loss: 0.3630 - val_accuracy: 0.8478\n",
      "Epoch 68/100\n",
      "5359/5359 [==============================] - 0s 83us/step - loss: 0.3300 - accuracy: 0.8640 - val_loss: 0.3620 - val_accuracy: 0.8497\n",
      "Epoch 69/100\n",
      "5359/5359 [==============================] - 0s 83us/step - loss: 0.3300 - accuracy: 0.8606 - val_loss: 0.3611 - val_accuracy: 0.8512\n",
      "Epoch 70/100\n",
      "5359/5359 [==============================] - 0s 83us/step - loss: 0.3295 - accuracy: 0.8625 - val_loss: 0.3604 - val_accuracy: 0.8485\n",
      "Epoch 71/100\n",
      "5359/5359 [==============================] - 0s 83us/step - loss: 0.3297 - accuracy: 0.8614 - val_loss: 0.3598 - val_accuracy: 0.8508\n",
      "Epoch 72/100\n",
      "5359/5359 [==============================] - 0s 84us/step - loss: 0.3295 - accuracy: 0.8643 - val_loss: 0.3608 - val_accuracy: 0.8523\n",
      "Epoch 73/100\n",
      "5359/5359 [==============================] - 0s 82us/step - loss: 0.3292 - accuracy: 0.8643 - val_loss: 0.3605 - val_accuracy: 0.8489\n",
      "Epoch 74/100\n",
      "5359/5359 [==============================] - 0s 82us/step - loss: 0.3292 - accuracy: 0.8636 - val_loss: 0.3600 - val_accuracy: 0.8516\n",
      "Epoch 75/100\n",
      "5359/5359 [==============================] - 0s 82us/step - loss: 0.3291 - accuracy: 0.8649 - val_loss: 0.3602 - val_accuracy: 0.8519\n",
      "Epoch 76/100\n",
      "5359/5359 [==============================] - 0s 86us/step - loss: 0.3289 - accuracy: 0.8642 - val_loss: 0.3604 - val_accuracy: 0.8497\n",
      "Epoch 77/100\n",
      "5359/5359 [==============================] - 0s 86us/step - loss: 0.3287 - accuracy: 0.8623 - val_loss: 0.3607 - val_accuracy: 0.8512\n",
      "Epoch 78/100\n",
      "5359/5359 [==============================] - 0s 86us/step - loss: 0.3286 - accuracy: 0.8634 - val_loss: 0.3605 - val_accuracy: 0.8508\n",
      "Epoch 79/100\n",
      "5359/5359 [==============================] - 0s 84us/step - loss: 0.3288 - accuracy: 0.8649 - val_loss: 0.3614 - val_accuracy: 0.8504\n",
      "Epoch 80/100\n",
      "5359/5359 [==============================] - 0s 83us/step - loss: 0.3289 - accuracy: 0.8636 - val_loss: 0.3597 - val_accuracy: 0.8527\n",
      "Epoch 81/100\n",
      "5359/5359 [==============================] - 0s 84us/step - loss: 0.3286 - accuracy: 0.8656 - val_loss: 0.3623 - val_accuracy: 0.8470\n",
      "Epoch 82/100\n",
      "5359/5359 [==============================] - 1s 99us/step - loss: 0.3287 - accuracy: 0.8634 - val_loss: 0.3599 - val_accuracy: 0.8489\n",
      "Epoch 83/100\n",
      "5359/5359 [==============================] - 0s 78us/step - loss: 0.3285 - accuracy: 0.8655 - val_loss: 0.3610 - val_accuracy: 0.8474\n",
      "Epoch 84/100\n",
      "5359/5359 [==============================] - 0s 83us/step - loss: 0.3284 - accuracy: 0.8612 - val_loss: 0.3611 - val_accuracy: 0.8493\n",
      "Epoch 85/100\n",
      "5359/5359 [==============================] - 0s 90us/step - loss: 0.3285 - accuracy: 0.8642 - val_loss: 0.3599 - val_accuracy: 0.8508\n",
      "Epoch 86/100\n",
      "5359/5359 [==============================] - 0s 79us/step - loss: 0.3281 - accuracy: 0.8645 - val_loss: 0.3617 - val_accuracy: 0.8497\n",
      "Epoch 87/100\n",
      "5359/5359 [==============================] - 0s 86us/step - loss: 0.3284 - accuracy: 0.8636 - val_loss: 0.3619 - val_accuracy: 0.8489\n",
      "Epoch 88/100\n",
      "5359/5359 [==============================] - 0s 84us/step - loss: 0.3284 - accuracy: 0.8612 - val_loss: 0.3602 - val_accuracy: 0.8523\n",
      "Epoch 89/100\n",
      "5359/5359 [==============================] - 0s 85us/step - loss: 0.3283 - accuracy: 0.8649 - val_loss: 0.3615 - val_accuracy: 0.8501\n",
      "Epoch 90/100\n",
      "5359/5359 [==============================] - 0s 82us/step - loss: 0.3282 - accuracy: 0.8636 - val_loss: 0.3599 - val_accuracy: 0.8531\n",
      "Epoch 91/100\n",
      "5359/5359 [==============================] - 0s 82us/step - loss: 0.3276 - accuracy: 0.8645 - val_loss: 0.3611 - val_accuracy: 0.8508\n",
      "Epoch 92/100\n",
      "5359/5359 [==============================] - 0s 81us/step - loss: 0.3283 - accuracy: 0.8643 - val_loss: 0.3609 - val_accuracy: 0.8501\n",
      "Epoch 93/100\n",
      "5359/5359 [==============================] - 0s 82us/step - loss: 0.3282 - accuracy: 0.8623 - val_loss: 0.3601 - val_accuracy: 0.8531\n",
      "Epoch 94/100\n",
      "5359/5359 [==============================] - 0s 90us/step - loss: 0.3281 - accuracy: 0.8630 - val_loss: 0.3615 - val_accuracy: 0.8482\n",
      "Epoch 95/100\n",
      "5359/5359 [==============================] - 0s 91us/step - loss: 0.3277 - accuracy: 0.8640 - val_loss: 0.3604 - val_accuracy: 0.8501\n",
      "Epoch 96/100\n",
      "5359/5359 [==============================] - 0s 87us/step - loss: 0.3279 - accuracy: 0.8640 - val_loss: 0.3601 - val_accuracy: 0.8527\n",
      "Epoch 97/100\n",
      "5359/5359 [==============================] - 0s 81us/step - loss: 0.3279 - accuracy: 0.8638 - val_loss: 0.3601 - val_accuracy: 0.8519\n",
      "Epoch 98/100\n",
      "5359/5359 [==============================] - 0s 86us/step - loss: 0.3278 - accuracy: 0.8653 - val_loss: 0.3605 - val_accuracy: 0.8470\n",
      "Epoch 99/100\n",
      "5359/5359 [==============================] - 0s 91us/step - loss: 0.3280 - accuracy: 0.8627 - val_loss: 0.3603 - val_accuracy: 0.8501\n",
      "Epoch 100/100\n",
      "5359/5359 [==============================] - 0s 83us/step - loss: 0.3278 - accuracy: 0.8655 - val_loss: 0.3614 - val_accuracy: 0.8516\n"
     ]
    }
   ],
   "source": [
    "model_history=classifier.fit(x_train, y_train,validation_split=0.33, batch_size = 10, epochs= 100)"
   ]
  },
  {
   "cell_type": "code",
   "execution_count": null,
   "metadata": {},
   "outputs": [],
   "source": []
  },
  {
   "cell_type": "code",
   "execution_count": 101,
   "metadata": {},
   "outputs": [
    {
     "data": {
      "text/plain": [
       "array([[False],\n",
       "       [False],\n",
       "       [False],\n",
       "       ...,\n",
       "       [False],\n",
       "       [False],\n",
       "       [False]])"
      ]
     },
     "execution_count": 101,
     "metadata": {},
     "output_type": "execute_result"
    }
   ],
   "source": [
    "y_pred = classifier.predict(x_test)\n",
    "y_pred = (y_pred > 0.5)\n",
    "y_pred"
   ]
  },
  {
   "cell_type": "code",
   "execution_count": 102,
   "metadata": {},
   "outputs": [
    {
     "data": {
      "text/plain": [
       "array([[1500,   95],\n",
       "       [ 187,  218]], dtype=int64)"
      ]
     },
     "execution_count": 102,
     "metadata": {},
     "output_type": "execute_result"
    }
   ],
   "source": [
    "from sklearn.metrics import confusion_matrix\n",
    "cm = confusion_matrix(y_test, y_pred)\n",
    "cm"
   ]
  },
  {
   "cell_type": "code",
   "execution_count": 103,
   "metadata": {},
   "outputs": [
    {
     "data": {
      "text/plain": [
       "0.859"
      ]
     },
     "execution_count": 103,
     "metadata": {},
     "output_type": "execute_result"
    }
   ],
   "source": [
    "from sklearn.metrics import accuracy_score\n",
    "score=accuracy_score(y_pred,y_test)\n",
    "score"
   ]
  }
 ],
 "metadata": {
  "kernelspec": {
   "display_name": "Python 3",
   "language": "python",
   "name": "python3"
  },
  "language_info": {
   "codemirror_mode": {
    "name": "ipython",
    "version": 3
   },
   "file_extension": ".py",
   "mimetype": "text/x-python",
   "name": "python",
   "nbconvert_exporter": "python",
   "pygments_lexer": "ipython3",
   "version": "3.7.3"
  }
 },
 "nbformat": 4,
 "nbformat_minor": 2
}
